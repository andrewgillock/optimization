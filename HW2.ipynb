{
 "cells": [
  {
   "cell_type": "code",
   "execution_count": 1,
   "id": "b005e182-192d-4dab-b199-a4d98b9f7eed",
   "metadata": {},
   "outputs": [],
   "source": [
    "import numpy as np\n",
    "import gurobipy as gp"
   ]
  },
  {
   "cell_type": "markdown",
   "id": "12d5147c-fe31-4464-8473-4117139f4e80",
   "metadata": {},
   "source": [
    "### Question 1"
   ]
  },
  {
   "cell_type": "code",
   "execution_count": 7,
   "id": "6b97108b-f46c-4079-8756-7b8c2d99f033",
   "metadata": {},
   "outputs": [],
   "source": [
    "obj = np.array([4, 5])\n",
    "\n",
    "A = np.zeros((2, 2))\n",
    "\n",
    "A[0, :] = [2, 3]\n",
    "A[1, :] = [1, -1]\n",
    "\n",
    "b = np.array([60, 0])\n",
    "sense = np.array(['<', '<'])"
   ]
  },
  {
   "cell_type": "code",
   "execution_count": 8,
   "id": "ee5739db-4df9-4a4d-94c8-97b0e78029f2",
   "metadata": {},
   "outputs": [],
   "source": [
    "# create empty model\n",
    "model = gp.Model()\n",
    "\n",
    "# set num of vars\n",
    "modelVar = model.addMVar(2)\n",
    "\n",
    "# set constraints\n",
    "modelCon = model.addMConstrs(A, modelVar, sense, b)\n",
    "model.setMObjective(None, obj, 0, sense = gp.GRB.MAXIMIZE)\n",
    "\n",
    "model.Params.OutputFlag = 0\n",
    "model.Params.TimeLimit = 3600"
   ]
  },
  {
   "cell_type": "code",
   "execution_count": 9,
   "id": "f4efd5b5-ac4f-4577-b6c6-9af6f96eb71d",
   "metadata": {},
   "outputs": [],
   "source": [
    "model.optimize()"
   ]
  },
  {
   "cell_type": "code",
   "execution_count": 10,
   "id": "e0ecdebe-29ce-4a44-81be-5dfa39c5618c",
   "metadata": {},
   "outputs": [
    {
     "data": {
      "text/plain": [
       "108.0"
      ]
     },
     "execution_count": 10,
     "metadata": {},
     "output_type": "execute_result"
    }
   ],
   "source": [
    "model.objVal"
   ]
  },
  {
   "cell_type": "code",
   "execution_count": 24,
   "id": "ff98be60-b9a7-4c57-9f46-ca9b0bfed5d5",
   "metadata": {},
   "outputs": [
    {
     "data": {
      "text/plain": [
       "array([12., 12.])"
      ]
     },
     "execution_count": 24,
     "metadata": {},
     "output_type": "execute_result"
    }
   ],
   "source": [
    "modelVar.x"
   ]
  },
  {
   "cell_type": "markdown",
   "id": "87441d06-744d-4a10-9bf8-3c604883946c",
   "metadata": {},
   "source": [
    "### Question 2"
   ]
  },
  {
   "cell_type": "code",
   "execution_count": 87,
   "id": "1567c620-7309-4a2c-b470-8a15e4bbcc13",
   "metadata": {},
   "outputs": [],
   "source": [
    "# set objective vector\n",
    "obj = np.array([2000, 3000])\n",
    "\n",
    "# initialize constraint matrix\n",
    "A = np.zeros((3, 2))\n",
    "\n",
    "A[0, :] = [1, 1] # acre constraint\n",
    "A[1, :] = [3, 2] # worker constraint\n",
    "A[2, :] = [2, 4] # fertilizer constaint\n",
    "\n",
    "b = np.array([450, 1000, 1800])\n",
    "sense = np.array(['<', '<', '<'])"
   ]
  },
  {
   "cell_type": "code",
   "execution_count": 88,
   "id": "c4147875-e339-4e7a-a0e5-62bef20870ff",
   "metadata": {},
   "outputs": [],
   "source": [
    "# create empty model\n",
    "model = gp.Model()\n",
    "\n",
    "# set num of vars\n",
    "modelVar = model.addMVar(2)\n",
    "\n",
    "# set constraints\n",
    "modelCon = model.addMConstrs(A, modelVar, sense, b)\n",
    "model.setMObjective(None, obj, 0, sense = gp.GRB.MAXIMIZE)\n",
    "\n",
    "model.Params.OutputFlag = 0\n",
    "model.Params.TimeLimit = 3600"
   ]
  },
  {
   "cell_type": "code",
   "execution_count": 89,
   "id": "d138c40a-ff1f-4849-b33e-08450ce82b6e",
   "metadata": {},
   "outputs": [],
   "source": [
    "# solve\n",
    "model.optimize()"
   ]
  },
  {
   "cell_type": "code",
   "execution_count": 90,
   "id": "ac0c0ba1-0750-4c31-9ff9-71106b6565d5",
   "metadata": {},
   "outputs": [
    {
     "data": {
      "text/plain": [
       "1350000.0"
      ]
     },
     "execution_count": 90,
     "metadata": {},
     "output_type": "execute_result"
    }
   ],
   "source": [
    "model.objVal"
   ]
  },
  {
   "cell_type": "code",
   "execution_count": 91,
   "id": "ea660243-62e0-42f9-bca3-bafd91cc2608",
   "metadata": {},
   "outputs": [
    {
     "data": {
      "text/plain": [
       "array([  0., 450.])"
      ]
     },
     "execution_count": 91,
     "metadata": {},
     "output_type": "execute_result"
    }
   ],
   "source": [
    "modelVar.x"
   ]
  },
  {
   "cell_type": "markdown",
   "id": "d370ee1b",
   "metadata": {},
   "source": [
    "Let me try something cleaner..."
   ]
  },
  {
   "cell_type": "code",
   "execution_count": 14,
   "id": "966322a9",
   "metadata": {},
   "outputs": [],
   "source": [
    "# set objective vector\n",
    "obj = np.array([2000, 3000])\n",
    "\n",
    "# initialize constraint matrix\n",
    "A = np.zeros((3, 2))\n",
    "\n",
    "A[0, :] = [1, 1] # acre constraint\n",
    "A[1, :] = [3, 2] # worker constraint\n",
    "A[2, :] = [2, 4] # fertilizer constaint\n",
    "\n",
    "sense = np.array(['<', '<', '<'])\n",
    "fert = list(range(200, 2300, 100)) # create whole range of fertilizer constraints"
   ]
  },
  {
   "cell_type": "code",
   "execution_count": 18,
   "id": "5971609a",
   "metadata": {},
   "outputs": [
    {
     "name": "stdout",
     "output_type": "stream",
     "text": [
      "Fertilizer constraint:  1800\n",
      "Allocation:  [  0. 450.]\n"
     ]
    }
   ],
   "source": [
    "for i in fert:\n",
    "    b = np.array([450, 1000, i])\n",
    "\n",
    "    # create empty model\n",
    "    model = gp.Model()\n",
    "\n",
    "    # set num of vars\n",
    "    modelVar = model.addMVar(2)\n",
    "\n",
    "    # set constraints\n",
    "    modelCon = model.addMConstrs(A, modelVar, sense, b)\n",
    "    model.setMObjective(None, obj, 0, sense = gp.GRB.MAXIMIZE)\n",
    "\n",
    "    model.Params.OutputFlag = 0\n",
    "    model.Params.TimeLimit = 3600\n",
    "\n",
    "    # solve\n",
    "    model.optimize()\n",
    "\n",
    "    # look for instances of 0 acres allocated to corn\n",
    "    if modelVar.x[0] == 0:\n",
    "\n",
    "        print('Fertilizer constraint: ', i)\n",
    "        print('Allocation: ', modelVar.x)\n",
    "        break\n",
    "    "
   ]
  },
  {
   "cell_type": "markdown",
   "id": "232fcef7-8352-463d-9fb3-91307b151034",
   "metadata": {},
   "source": [
    "### Question 3"
   ]
  },
  {
   "cell_type": "code",
   "execution_count": 19,
   "id": "c1c107c7-c8dd-42cd-ab2b-0589479f023d",
   "metadata": {},
   "outputs": [],
   "source": [
    "obj = np.array([13, 16, 16, 14, 39])\n",
    "\n",
    "A = np.zeros((7, 5))\n",
    "\n",
    "A[0, :] = [11, 53, 5, 5, 29]\n",
    "A[1, :] = [3, 6, 5, 1, 34]\n",
    "A[2, :] = [1, 0, 0, 0, 0]\n",
    "A[3, :] = [0, 1, 0, 0, 0]\n",
    "A[4, :] = [0, 0, 1, 0, 0]\n",
    "A[5, :] = [0, 0, 0, 1, 0]\n",
    "A[6, :] = [0, 0, 0, 0, 1]\n",
    "\n",
    "b = np.array([40, 20, 1, 1, 1, 1, 1])\n",
    "sense = np.array(['<', '<', '<', '<', '<', '<', '<'])"
   ]
  },
  {
   "cell_type": "code",
   "execution_count": 20,
   "id": "43c8f9e0-7013-453d-bd64-299033624e66",
   "metadata": {},
   "outputs": [],
   "source": [
    "# create empty model\n",
    "model = gp.Model()\n",
    "\n",
    "# set num of vars\n",
    "modelVar = model.addMVar(5)\n",
    "\n",
    "# set constraints\n",
    "modelCon = model.addMConstrs(A, modelVar, sense, b)\n",
    "model.setMObjective(None, obj, 0, sense = gp.GRB.MAXIMIZE)\n",
    "\n",
    "model.Params.OutputFlag = 0\n",
    "model.Params.TimeLimit = 3600\n"
   ]
  },
  {
   "cell_type": "code",
   "execution_count": 21,
   "id": "5ad85739-8a3a-4cf8-9201-65232cd19611",
   "metadata": {},
   "outputs": [],
   "source": [
    "model.optimize()"
   ]
  },
  {
   "cell_type": "code",
   "execution_count": 22,
   "id": "31c03c07-4e74-49db-b8db-98aebff45eac",
   "metadata": {},
   "outputs": [
    {
     "data": {
      "text/plain": [
       "57.449017199017206"
      ]
     },
     "execution_count": 22,
     "metadata": {},
     "output_type": "execute_result"
    }
   ],
   "source": [
    "model.objVal"
   ]
  },
  {
   "cell_type": "code",
   "execution_count": 23,
   "id": "1dedb8b5-c106-4355-9066-7f74157b6c6c",
   "metadata": {},
   "outputs": [
    {
     "data": {
      "text/plain": [
       "array([1.        , 0.20085995, 1.        , 1.        , 0.28808354])"
      ]
     },
     "execution_count": 23,
     "metadata": {},
     "output_type": "execute_result"
    }
   ],
   "source": [
    "modelVar.x"
   ]
  },
  {
   "cell_type": "markdown",
   "id": "0a92ddad-970d-42f4-bf73-4b68cadb616c",
   "metadata": {},
   "source": [
    "### Question 4"
   ]
  },
  {
   "cell_type": "code",
   "execution_count": 95,
   "id": "f37a2d24-d003-4336-8b16-1f1195a11354",
   "metadata": {},
   "outputs": [],
   "source": [
    "obj = np.array([0.18, 0.23, 0.05])\n",
    "\n",
    "A = np.zeros((7, 3))\n",
    "\n",
    "A[0, :] = [72, 121, 65]\n",
    "A[1, :] = [72, 121, 65]\n",
    "A[2, :] = [107, 500, 0]\n",
    "A[3, :] = [107, 500, 0]\n",
    "A[4, :] = [1, 0, 0]\n",
    "A[5, :] = [0, 1, 0]\n",
    "A[6, :] = [0, 0, 1]\n",
    "\n",
    "b = np.array([2000, 2250, 5000, 50000, 10, 10, 10])\n",
    "\n",
    "sense = np.array(['>', '<', '>', '<', '<', '<', '<'])"
   ]
  },
  {
   "cell_type": "code",
   "execution_count": 96,
   "id": "b91d998b-2c9f-48c8-8af9-53e2acbe8b6c",
   "metadata": {},
   "outputs": [],
   "source": [
    "# create empty model\n",
    "model = gp.Model()\n",
    "\n",
    "# set num of vars\n",
    "modelVar = model.addMVar(3)\n",
    "\n",
    "# set constraints\n",
    "modelCon = model.addMConstrs(A, modelVar, sense, b)\n",
    "model.setMObjective(None, obj, 0, sense = gp.GRB.MINIMIZE)\n",
    "\n",
    "model.Params.OutputFlag = 0\n",
    "model.Params.TimeLimit = 3600"
   ]
  },
  {
   "cell_type": "code",
   "execution_count": 97,
   "id": "9ec7ae0c-f13c-425f-b827-e66d65a10204",
   "metadata": {},
   "outputs": [],
   "source": [
    "model.optimize()"
   ]
  },
  {
   "cell_type": "code",
   "execution_count": 98,
   "id": "69bf4cc3-969a-4c1d-be9c-99209416cdc4",
   "metadata": {},
   "outputs": [
    {
     "data": {
      "text/plain": [
       "3.1500000000000004"
      ]
     },
     "execution_count": 98,
     "metadata": {},
     "output_type": "execute_result"
    }
   ],
   "source": [
    "model.objVal"
   ]
  },
  {
   "cell_type": "code",
   "execution_count": 99,
   "id": "7db2abc8-42e3-4510-9ee4-0ced281fd1d3",
   "metadata": {},
   "outputs": [
    {
     "data": {
      "text/plain": [
       "array([ 1.94444444, 10.        , 10.        ])"
      ]
     },
     "execution_count": 99,
     "metadata": {},
     "output_type": "execute_result"
    }
   ],
   "source": [
    "modelVar.x"
   ]
  },
  {
   "cell_type": "markdown",
   "id": "5142d2ba-3d16-4a43-8c96-94e78606371c",
   "metadata": {},
   "source": [
    "### Question 5"
   ]
  },
  {
   "cell_type": "code",
   "execution_count": 110,
   "id": "e90338e0-7063-4a6f-b659-a270d9e7126c",
   "metadata": {},
   "outputs": [],
   "source": [
    "obj = np.array([2, 2.6, 2.8, 3, 3.6, 4.8])\n",
    "\n",
    "A = np.zeros((6, 6))\n",
    "\n",
    "A[0, :] = [1, 1, 0, 0, 0 , 0]\n",
    "A[1, :] = [0, 0, 1.3, 1.2, 0, 0]\n",
    "A[2, :] = [0, 0, 0, 0, 1.4, 1.6]\n",
    "A[3, :] = [1, 1, 0, 0, 0 , 0]\n",
    "A[4, :] = [0, 0, 1.3, 1.2, 0, 0]\n",
    "A[5, :] = [0, 0, 0, 0, 1.4, 1.6]\n",
    "\n",
    "\n",
    "b = np.array([1.2, 1.5, 2, 2, 2, 3])\n",
    "sense = np.array(['>', '>', '>', '<', '<', '<'])"
   ]
  },
  {
   "cell_type": "code",
   "execution_count": 111,
   "id": "ad950089-c1ec-49fd-b1b8-ad2f19b4881e",
   "metadata": {},
   "outputs": [],
   "source": [
    "# create empty model\n",
    "model = gp.Model()\n",
    "\n",
    "# set num of vars\n",
    "modelVar = model.addMVar(6)\n",
    "\n",
    "# set constraints\n",
    "modelCon = model.addMConstrs(A, modelVar, sense, b)\n",
    "model.setMObjective(None, obj, 0, sense = gp.GRB.MAXIMIZE)\n",
    "\n",
    "model.Params.OutputFlag = 0\n",
    "model.Params.TimeLimit = 3600"
   ]
  },
  {
   "cell_type": "code",
   "execution_count": 112,
   "id": "5ef66c50-b285-4b48-892d-5f529305c7c8",
   "metadata": {},
   "outputs": [],
   "source": [
    "model.optimize()"
   ]
  },
  {
   "cell_type": "code",
   "execution_count": 113,
   "id": "4cf03694-aedf-44a3-bd08-be01058f82b8",
   "metadata": {},
   "outputs": [
    {
     "data": {
      "text/plain": [
       "19.2"
      ]
     },
     "execution_count": 113,
     "metadata": {},
     "output_type": "execute_result"
    }
   ],
   "source": [
    "model.objVal"
   ]
  },
  {
   "cell_type": "code",
   "execution_count": 114,
   "id": "007ee89a-ce5c-408a-81f0-69ce59eecacb",
   "metadata": {},
   "outputs": [
    {
     "data": {
      "text/plain": [
       "[0.0, 2.0, 0.0, 1.6666666666666667, 0.0, 1.875]"
      ]
     },
     "execution_count": 114,
     "metadata": {},
     "output_type": "execute_result"
    }
   ],
   "source": [
    "model.x"
   ]
  }
 ],
 "metadata": {
  "kernelspec": {
   "display_name": "Python 3.9.1 64-bit",
   "language": "python",
   "name": "python3"
  },
  "language_info": {
   "codemirror_mode": {
    "name": "ipython",
    "version": 3
   },
   "file_extension": ".py",
   "mimetype": "text/x-python",
   "name": "python",
   "nbconvert_exporter": "python",
   "pygments_lexer": "ipython3",
   "version": "3.9.1"
  },
  "vscode": {
   "interpreter": {
    "hash": "aee8b7b246df8f9039afb4144a1f6fd8d2ca17a180786b69acc140d282b71a49"
   }
  }
 },
 "nbformat": 4,
 "nbformat_minor": 5
}
