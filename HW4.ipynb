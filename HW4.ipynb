{
 "cells": [
  {
   "cell_type": "code",
   "execution_count": 2,
   "metadata": {},
   "outputs": [],
   "source": [
    "import numpy as np\n",
    "from scipy.optimize import minimize"
   ]
  },
  {
   "cell_type": "markdown",
   "metadata": {},
   "source": [
    "### Question 1"
   ]
  },
  {
   "cell_type": "code",
   "execution_count": 13,
   "metadata": {},
   "outputs": [],
   "source": [
    "def obj(x):\n",
    "    # x[0] is labor hours\n",
    "    # x[1] is units of capital\n",
    "    labor = 0.05*x[0]**(2/3)\n",
    "    capital = x[1]**(1/3)\n",
    "    machines = labor * capital\n",
    "\n",
    "    return -machines"
   ]
  },
  {
   "cell_type": "code",
   "execution_count": 14,
   "metadata": {},
   "outputs": [],
   "source": [
    "# set up constraint, fun(input) >= 0\n",
    "# 12x0 + 15x1 - 100000 <= 0\n",
    "def confun(x):\n",
    "    return -12*x[0] - 15*x[1] + 100000\n",
    "\n",
    "constr1 = {'type':'ineq', 'fun': confun}\n",
    "constraints = [constr1]"
   ]
  },
  {
   "cell_type": "code",
   "execution_count": null,
   "metadata": {},
   "outputs": [],
   "source": []
  },
  {
   "cell_type": "code",
   "execution_count": 15,
   "metadata": {},
   "outputs": [],
   "source": [
    "optMachines = minimize(obj, [3, 4], constraints = constraints)"
   ]
  },
  {
   "cell_type": "code",
   "execution_count": 16,
   "metadata": {},
   "outputs": [
    {
     "data": {
      "text/plain": [
       "array([5617.32356433, 2172.8078152 ])"
      ]
     },
     "execution_count": 16,
     "metadata": {},
     "output_type": "execute_result"
    }
   ],
   "source": [
    "optMachines.x"
   ]
  },
  {
   "cell_type": "code",
   "execution_count": 17,
   "metadata": {},
   "outputs": [
    {
     "data": {
      "text/plain": [
       "-204.64292574082216"
      ]
     },
     "execution_count": 17,
     "metadata": {},
     "output_type": "execute_result"
    }
   ],
   "source": [
    "optMachines.fun"
   ]
  },
  {
   "cell_type": "code",
   "execution_count": null,
   "metadata": {},
   "outputs": [],
   "source": []
  },
  {
   "cell_type": "markdown",
   "metadata": {},
   "source": [
    "### Question 4"
   ]
  },
  {
   "cell_type": "code",
   "execution_count": 18,
   "metadata": {},
   "outputs": [],
   "source": [
    "import pandas as pd"
   ]
  },
  {
   "cell_type": "code",
   "execution_count": 34,
   "metadata": {},
   "outputs": [],
   "source": [
    "data = pd.read_csv('nflratings.csv', header = None)"
   ]
  },
  {
   "cell_type": "code",
   "execution_count": 35,
   "metadata": {},
   "outputs": [
    {
     "name": "stdout",
     "output_type": "stream",
     "text": [
      "      0   1   2   3   4\n",
      "0     1  25  31  13  10\n",
      "1     1   2  17  19   7\n",
      "2     1  29  26  28   0\n",
      "3     1  21  32  23  17\n",
      "4     1   3  16  38  24\n",
      "..   ..  ..  ..  ..  ..\n",
      "251  17   5  20  23  10\n",
      "252  17  11   6  23  37\n",
      "253  17  22   6  37   0\n",
      "254  17   8  15  23  17\n",
      "255  17   1  12   7  33\n",
      "\n",
      "[256 rows x 5 columns]\n"
     ]
    }
   ],
   "source": [
    "# week, home, away, home score, away score\n",
    "print(data)"
   ]
  },
  {
   "cell_type": "code",
   "execution_count": 36,
   "metadata": {},
   "outputs": [],
   "source": [
    "data = np.matrix(data).tolist()"
   ]
  },
  {
   "cell_type": "code",
   "execution_count": null,
   "metadata": {},
   "outputs": [],
   "source": [
    "\n",
    "def obj(x):\n",
    "    for row in x:\n",
    "        actual = row[3] - row[4]\n",
    "    # calculate actual point spread\n",
    "    actual = "
   ]
  },
  {
   "cell_type": "code",
   "execution_count": 38,
   "metadata": {},
   "outputs": [
    {
     "name": "stdout",
     "output_type": "stream",
     "text": [
      "3\n",
      "12\n",
      "28\n",
      "6\n",
      "14\n",
      "-17\n",
      "18\n",
      "-13\n",
      "-4\n",
      "-28\n",
      "6\n",
      "-5\n",
      "-14\n",
      "2\n",
      "-4\n",
      "1\n",
      "-3\n",
      "-3\n",
      "-26\n",
      "7\n",
      "2\n",
      "-5\n",
      "13\n",
      "-14\n",
      "-2\n",
      "8\n",
      "13\n",
      "3\n",
      "-7\n",
      "21\n",
      "-14\n",
      "-4\n",
      "-19\n",
      "-7\n",
      "20\n",
      "10\n",
      "3\n",
      "-24\n",
      "7\n",
      "5\n",
      "-20\n",
      "-21\n",
      "31\n",
      "3\n",
      "-6\n",
      "16\n",
      "-20\n",
      "14\n",
      "20\n",
      "-11\n",
      "14\n",
      "6\n",
      "10\n",
      "35\n",
      "3\n",
      "23\n",
      "7\n",
      "17\n",
      "-3\n",
      "24\n",
      "28\n",
      "7\n",
      "-35\n",
      "3\n",
      "19\n",
      "7\n",
      "41\n",
      "-8\n",
      "3\n",
      "-6\n",
      "-22\n",
      "-3\n",
      "37\n",
      "-3\n",
      "-28\n",
      "4\n",
      "21\n",
      "4\n",
      "-24\n",
      "-7\n",
      "7\n",
      "59\n",
      "2\n",
      "-8\n",
      "3\n",
      "26\n",
      "13\n",
      "-11\n",
      "-3\n",
      "-11\n",
      "-36\n",
      "16\n",
      "-12\n",
      "35\n",
      "-7\n",
      "-30\n",
      "-28\n",
      "10\n",
      "-28\n",
      "-11\n",
      "-38\n",
      "3\n",
      "-10\n",
      "-5\n",
      "17\n",
      "-12\n",
      "-7\n",
      "23\n",
      "21\n",
      "4\n",
      "24\n",
      "-13\n",
      "23\n",
      "-21\n",
      "8\n",
      "8\n",
      "-7\n",
      "10\n",
      "3\n",
      "10\n",
      "12\n",
      "10\n",
      "-4\n",
      "3\n",
      "10\n",
      "-20\n",
      "14\n",
      "-1\n",
      "-18\n",
      "4\n",
      "-2\n",
      "-6\n",
      "2\n",
      "-5\n",
      "8\n",
      "17\n",
      "10\n",
      "10\n",
      "9\n",
      "24\n",
      "-6\n",
      "1\n",
      "11\n",
      "-16\n",
      "-7\n",
      "-29\n",
      "6\n",
      "3\n",
      "26\n",
      "-31\n",
      "17\n",
      "1\n",
      "-8\n",
      "-2\n",
      "1\n",
      "3\n",
      "-4\n",
      "3\n",
      "3\n",
      "-3\n",
      "-22\n",
      "20\n",
      "17\n",
      "3\n",
      "3\n",
      "29\n",
      "17\n",
      "-10\n",
      "17\n",
      "3\n",
      "3\n",
      "11\n",
      "26\n",
      "9\n",
      "-8\n",
      "21\n",
      "-6\n",
      "-31\n",
      "5\n",
      "1\n",
      "-3\n",
      "-3\n",
      "3\n",
      "7\n",
      "13\n",
      "-27\n",
      "10\n",
      "8\n",
      "10\n",
      "-7\n",
      "10\n",
      "13\n",
      "7\n",
      "27\n",
      "-4\n",
      "-7\n",
      "-23\n",
      "40\n",
      "-21\n",
      "45\n",
      "-3\n",
      "12\n",
      "20\n",
      "-7\n",
      "10\n",
      "-6\n",
      "-3\n",
      "15\n",
      "-4\n",
      "-7\n",
      "14\n",
      "3\n",
      "-3\n",
      "1\n",
      "-1\n",
      "-17\n",
      "-7\n",
      "-7\n",
      "3\n",
      "24\n",
      "19\n",
      "-7\n",
      "-3\n",
      "-33\n",
      "-25\n",
      "-32\n",
      "-3\n",
      "28\n",
      "-7\n",
      "3\n",
      "14\n",
      "3\n",
      "-17\n",
      "21\n",
      "-14\n",
      "14\n",
      "28\n",
      "38\n",
      "7\n",
      "6\n",
      "3\n",
      "-22\n",
      "-8\n",
      "-4\n",
      "37\n",
      "-6\n",
      "7\n",
      "-20\n",
      "24\n",
      "-10\n",
      "23\n",
      "13\n",
      "-14\n",
      "37\n",
      "6\n",
      "-26\n"
     ]
    }
   ],
   "source": [
    "for row in data:\n",
    "   # calculate actual spread\n",
    "   actual = row[3] - row[4]\n",
    "\n",
    "   # calculate predicted spread\n",
    "   "
   ]
  },
  {
   "cell_type": "code",
   "execution_count": null,
   "metadata": {},
   "outputs": [],
   "source": []
  }
 ],
 "metadata": {
  "kernelspec": {
   "display_name": "Python 3.9.1 64-bit",
   "language": "python",
   "name": "python3"
  },
  "language_info": {
   "codemirror_mode": {
    "name": "ipython",
    "version": 3
   },
   "file_extension": ".py",
   "mimetype": "text/x-python",
   "name": "python",
   "nbconvert_exporter": "python",
   "pygments_lexer": "ipython3",
   "version": "3.9.1"
  },
  "orig_nbformat": 4,
  "vscode": {
   "interpreter": {
    "hash": "aee8b7b246df8f9039afb4144a1f6fd8d2ca17a180786b69acc140d282b71a49"
   }
  }
 },
 "nbformat": 4,
 "nbformat_minor": 2
}
